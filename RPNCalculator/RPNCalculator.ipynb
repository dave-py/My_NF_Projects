{
 "cells": [
  {
   "cell_type": "code",
   "execution_count": 1,
   "metadata": {},
   "outputs": [],
   "source": [
    "import operator"
   ]
  },
  {
   "cell_type": "code",
   "execution_count": 2,
   "metadata": {},
   "outputs": [],
   "source": [
    "class RPNCalculator():\n",
    "    \"\"\"This class contains a Reversed Polish Notation Calculator\"\"\"\n",
    "    \n",
    "    def __init__(self):\n",
    "        self.stack = []\n",
    "        \n",
    "        \n",
    "\n",
    "    \n",
    "    def _create_op_dict(self):\n",
    "        \"\"\"Create operator dictionary\"\"\"\n",
    "        \n",
    "        return {\n",
    "               '+':operator.add,\n",
    "               '-':operator.sub,\n",
    "               '*':operator.mul,\n",
    "               '/':operator.truediv,\n",
    "               '^':operator.pow,\n",
    "               }\n",
    "\n",
    "    def calc(self):\n",
    "        \"\"\"Run calculation\"\"\"\n",
    "        \n",
    "        equation = self._request_input()\n",
    "        self._perform_calc(equation)\n",
    "        self._show_result()\n",
    "    \n",
    "    def _perform_calc(self, equation):\n",
    "        \"\"\"Perform mathematical operation\"\"\"\n",
    "        \n",
    "        ops = self._create_op_dict()     \n",
    "        equation_list = equation.split()\n",
    "        \n",
    "        for element in equation_list:\n",
    "            if element.isnumeric():\n",
    "                self.stack.insert(0, float(element))\n",
    "            else:\n",
    "                n1 = self.stack.pop(1)\n",
    "                n2 = self.stack.pop(0)\n",
    "                result = ops[element](n1, n2)\n",
    "                self.stack.insert(0, result)\n",
    "                            \n",
    "           \n",
    "    def _request_input(self):\n",
    "        \"\"\"Ask user for input\"\"\"\n",
    "        return input(\"Please enter equation: \")\n",
    "    \n",
    "    def _show_result(self):\n",
    "        print(f\"Result: {self.stack[0]}\")"
   ]
  },
  {
   "cell_type": "code",
   "execution_count": 3,
   "metadata": {},
   "outputs": [
    {
     "name": "stdout",
     "output_type": "stream",
     "text": [
      "Please enter equation: 6 5 3 + 4 / + 3 -\n",
      "Result: 5.0\n"
     ]
    }
   ],
   "source": [
    "rpnc = RPNCalculator()\n",
    "rpnc.calc()\n",
    "\n",
    "#\"6 5 3 + 4 / + 3 -\""
   ]
  },
  {
   "cell_type": "code",
   "execution_count": 5,
   "metadata": {},
   "outputs": [
    {
     "name": "stdout",
     "output_type": "stream",
     "text": [
      "no\n"
     ]
    }
   ],
   "source": []
  }
 ],
 "metadata": {
  "kernelspec": {
   "display_name": "Python 3",
   "language": "python",
   "name": "python3"
  },
  "language_info": {
   "codemirror_mode": {
    "name": "ipython",
    "version": 3
   },
   "file_extension": ".py",
   "mimetype": "text/x-python",
   "name": "python",
   "nbconvert_exporter": "python",
   "pygments_lexer": "ipython3",
   "version": "3.6.10"
  },
  "varInspector": {
   "cols": {
    "lenName": 16,
    "lenType": 16,
    "lenVar": 40
   },
   "kernels_config": {
    "python": {
     "delete_cmd_postfix": "",
     "delete_cmd_prefix": "del ",
     "library": "var_list.py",
     "varRefreshCmd": "print(var_dic_list())"
    },
    "r": {
     "delete_cmd_postfix": ") ",
     "delete_cmd_prefix": "rm(",
     "library": "var_list.r",
     "varRefreshCmd": "cat(var_dic_list()) "
    }
   },
   "position": {
    "height": "440.191px",
    "left": "760.174px",
    "right": "20px",
    "top": "528.969px",
    "width": "618.75px"
   },
   "types_to_exclude": [
    "module",
    "function",
    "builtin_function_or_method",
    "instance",
    "_Feature"
   ],
   "window_display": false
  }
 },
 "nbformat": 4,
 "nbformat_minor": 4
}
