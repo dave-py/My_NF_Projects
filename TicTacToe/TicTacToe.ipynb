{
 "cells": [
  {
   "cell_type": "markdown",
   "metadata": {},
   "source": [
    "# A program to play TicTacToe with two players"
   ]
  },
  {
   "cell_type": "code",
   "execution_count": 16,
   "metadata": {},
   "outputs": [],
   "source": [
    "from random import choice"
   ]
  },
  {
   "cell_type": "code",
   "execution_count": 17,
   "metadata": {},
   "outputs": [],
   "source": [
    "class TicTacToe():\n",
    "    \"\"\"A class that contains all attributs and methods for a 2player game of TicTacToe\"\"\"\n",
    "    \n",
    "    def __init__(self):\n",
    "        \"\"\"instanciate attributes for players, board and game setup\"\"\"\n",
    "        \n",
    "        # set player names and marks\n",
    "        self.p1_name, self.p1_mark = \"Player 1\", \"X\"\n",
    "        self.p2_name, self.p2_mark = \"Player 2\", \"O\"\n",
    "        \n",
    "        # create board coordinates\n",
    "        self.header = [\" \", \"A\", \"B\", \"C\"]\n",
    "        self.row_1 = [\"1\", \" \", \" \", \" \"]\n",
    "        self.row_2 = [\"2\", \" \", \" \", \" \"]\n",
    "        self.row_3 = [\"3\", \" \", \" \", \" \"]\n",
    "        \n",
    "        # calc column and dia lists for win/los validation\n",
    "        self.col_1 = [self.row_1[1] , self.row_2[1], self.row_3[1]]\n",
    "        self.col_2 = [self.row_1[1] , self.row_2[1], self.row_3[1]]\n",
    "        self.col_3 = [self.row_1[1] , self.row_2[1], self.row_3[1]]\n",
    "        self.dia_1 = [self.row_1[1] , self.row_2[2], self.row_3[3]]\n",
    "        self.dia_2 = [self.row_1[3] , self.row_2[2], self.row_3[1]]\n",
    "        \n",
    "        # user input translation to access self.rows\n",
    "        self.board_index = {\"A\":1, \"B\":2, \"C\":3, \"1\":\"self.row_1\", \"2\":\"self.row_2\", \"3\":\"self.row_3\"}\n",
    "        \n",
    "        self.board = (\n",
    "                    \"|\".join(self.header)\n",
    "                    +\"\\n\"+\"-------\\n\"\n",
    "                    +\"|\".join(self.row_1)\n",
    "                    +\"\\n\"+\"-------\\n\"\n",
    "                    +\"|\".join(self.row_2)\n",
    "                    +\"\\n\"+\"-------\\n\"\n",
    "                    +\"|\".join(self.row_3)\n",
    "                )\n",
    "        \n",
    "        self.game_active = False\n",
    "        self.active_player = \"\"\n",
    "        self.active_mark = {self.p1_name:self.p1_mark, self.p2_name:self.p2_mark}\n",
    "        self.round_counter = 0\n",
    "        \n",
    "    def run_game(self):\n",
    "        \"\"\"A method to start the game and loop through game methods.\"\"\"\n",
    "\n",
    "        # if program starts for the first time, players need to be set up\n",
    "        if self.game_active == False:\n",
    "            self.set_up_start()\n",
    "\n",
    "        # as long as the game is activ, loop through gaming method\n",
    "        # while\n",
    "        elif self.game_active == True:\n",
    "            self.get_player_input()\n",
    "        #    update_board()\n",
    "        #    check_winner()\n",
    "\n",
    "\n",
    "    def set_up_start(self):\n",
    "        \"\"\"Ask for players names and choose starting player randomly\"\"\"\n",
    "\n",
    "        # Get player names\n",
    "        self.p1_name = \"Max\" #input(\"Please enter name for Player 1: \")\n",
    "        self.p2_name = \"David\" #input(\"Please enter name for Player 2: \")\n",
    "        \n",
    "        # Choose starting player:\n",
    "        self.active_player = choice([self.p1_name, self.p2_name])\n",
    "        print(f\"{self.active_player} is going to start!\")\n",
    "        \n",
    "                \n",
    "        # activate game:\n",
    "        self.game_active = True\n",
    "        print(\"run from setup\")\n",
    "        self.run_game()\n",
    "        \n",
    "    \n",
    "    def get_player_input(self):\n",
    "        \"\"\"Asks for input of the active player\"\"\"\n",
    "        \n",
    "        print(f\"{self.active_player}, where will you play?\")\n",
    "        column = input(\"Column A, B or C?\")\n",
    "        row = input(\"Row: 1, 2 or 3?\")\n",
    "        \n",
    "        \n",
    "        self.active_mark = {self.p1_name:self.p1_mark, self.p2_name:self.p2_mark}\n",
    "        self.round_counter += 1\n",
    "        \n",
    "        if row == 1:\n",
    "            self.row_1[self.board_index[column]] = self.active_mark[self.active_player]\n",
    "            print(self.board_index[column])\n",
    "        elif row == \"2\":\n",
    "            self.row_2[self.board_index[column]] = self.active_mark[self.active_player]\n",
    "            print(self.board_index[column])\n",
    "        elif row == 3:\n",
    "            self.row_3[self.board_index[column]] = self.active_mark[self.active_player]\n",
    "            print(self.board_index[column])\n",
    "        print(self.active_mark[self.active_player])\n",
    "        self.board = (\n",
    "                    \"|\".join(self.header)\n",
    "                    +\"\\n\"+\"-------\\n\"\n",
    "                    +\"|\".join(self.row_1)\n",
    "                    +\"\\n\"+\"-------\\n\"\n",
    "                    +\"|\".join(self.row_2)\n",
    "                    +\"\\n\"+\"-------\\n\"\n",
    "                    +\"|\".join(self.row_3)\n",
    "                )\n",
    "        \n",
    "    def _check_winner(self):\n",
    "        if (self.row_1.count(self.active_mark) == 3 \n",
    "                or self.row_2.count(self.active_mark) == 3\n",
    "                or self.row_3.count(self.active_mark) == 3\n",
    "                or self.col_1.count(self.active_mark) == 3\n",
    "                or self.col_2.count(self.active_mark) == 3\n",
    "                or self.col_3.count(self.active_mark) == 3\n",
    "                or self.dia_1.count(self.active_mark) == 3\n",
    "                or self.dia_2.count(self.active_mark) == 3\n",
    "                ):\n",
    "            self._finish_game(\"Win\")\n",
    "        elif self.round_counter == 9:\n",
    "            self._finish_game(\"Tie\")\n",
    "            \n",
    "    def _finisch_game(self, result):\n",
    "        pass\n",
    "        \n",
    "       \n",
    "        print(self.board)\n",
    "        \n",
    "        # Validation!!!!\n",
    "        \n",
    "        \n",
    "        \n",
    "        \n",
    "\n",
    "                      "
   ]
  },
  {
   "cell_type": "code",
   "execution_count": 18,
   "metadata": {},
   "outputs": [],
   "source": [
    "game = TicTacToe()"
   ]
  },
  {
   "cell_type": "code",
   "execution_count": 14,
   "metadata": {},
   "outputs": [
    {
     "data": {
      "text/plain": [
       "False"
      ]
     },
     "execution_count": 14,
     "metadata": {},
     "output_type": "execute_result"
    }
   ],
   "source": [
    "game.game_active"
   ]
  },
  {
   "cell_type": "code",
   "execution_count": 19,
   "metadata": {},
   "outputs": [
    {
     "name": "stdout",
     "output_type": "stream",
     "text": [
      "David is going to start!\n",
      "run from setup\n",
      "David, where will you play?\n",
      "Column A, B or C?B\n",
      "Row: 1, 2 or 3?2\n",
      "2\n",
      "O\n"
     ]
    }
   ],
   "source": [
    "game.run_game()\n"
   ]
  },
  {
   "cell_type": "code",
   "execution_count": 1,
   "metadata": {},
   "outputs": [
    {
     "ename": "NameError",
     "evalue": "name 'game' is not defined",
     "output_type": "error",
     "traceback": [
      "\u001b[0;31m---------------------------------------------------------------------------\u001b[0m",
      "\u001b[0;31mNameError\u001b[0m                                 Traceback (most recent call last)",
      "\u001b[0;32m<ipython-input-1-0e7618fc5847>\u001b[0m in \u001b[0;36m<module>\u001b[0;34m\u001b[0m\n\u001b[0;32m----> 1\u001b[0;31m \u001b[0mgame\u001b[0m\u001b[0;34m.\u001b[0m\u001b[0mp2_name\u001b[0m\u001b[0;34m\u001b[0m\u001b[0;34m\u001b[0m\u001b[0m\n\u001b[0m",
      "\u001b[0;31mNameError\u001b[0m: name 'game' is not defined"
     ]
    }
   ],
   "source": [
    "game.p2_name"
   ]
  },
  {
   "cell_type": "code",
   "execution_count": 20,
   "metadata": {},
   "outputs": [
    {
     "ename": "TypeError",
     "evalue": "count() takes exactly one argument (0 given)",
     "output_type": "error",
     "traceback": [
      "\u001b[0;31m---------------------------------------------------------------------------\u001b[0m",
      "\u001b[0;31mTypeError\u001b[0m                                 Traceback (most recent call last)",
      "\u001b[0;32m<ipython-input-20-dd6d1a8ae89c>\u001b[0m in \u001b[0;36m<module>\u001b[0;34m\u001b[0m\n\u001b[1;32m      4\u001b[0m     \u001b[0mprint\u001b[0m\u001b[0;34m(\u001b[0m\u001b[0;36m4\u001b[0m\u001b[0;34m)\u001b[0m\u001b[0;34m\u001b[0m\u001b[0;34m\u001b[0m\u001b[0m\n\u001b[1;32m      5\u001b[0m \u001b[0;34m\u001b[0m\u001b[0m\n\u001b[0;32m----> 6\u001b[0;31m \u001b[0my\u001b[0m\u001b[0;34m.\u001b[0m\u001b[0mcount\u001b[0m\u001b[0;34m(\u001b[0m\u001b[0;34m)\u001b[0m\u001b[0;34m\u001b[0m\u001b[0;34m\u001b[0m\u001b[0m\n\u001b[0m\u001b[1;32m      7\u001b[0m \u001b[0;34m\u001b[0m\u001b[0m\n",
      "\u001b[0;31mTypeError\u001b[0m: count() takes exactly one argument (0 given)"
     ]
    }
   ],
   "source": [
    "x = 4\n",
    "y = [5, 4]\n",
    "if (y or x or 6) == 5:\n",
    "    print(4)\n",
    "    \n",
    "y.count()\n",
    "    \n"
   ]
  },
  {
   "cell_type": "code",
   "execution_count": 21,
   "metadata": {},
   "outputs": [
    {
     "name": "stdout",
     "output_type": "stream",
     "text": [
      "\n",
      "['(0, 0)', '(0, 1)', '(0, 2)']\n",
      "['(1, 0)', '(1, 1)', '(1, 2)']\n",
      "['(2, 0)', '(2, 1)', '(2, 2)']\n",
      "\n",
      "To end the game enter: Quit\n",
      "\n",
      "Your symbol is  X  Player 1: What’s your move?,12\n"
     ]
    },
    {
     "ename": "ValueError",
     "evalue": "invalid literal for int() with base 10: ''",
     "output_type": "error",
     "traceback": [
      "\u001b[0;31m---------------------------------------------------------------------------\u001b[0m",
      "\u001b[0;31mValueError\u001b[0m                                Traceback (most recent call last)",
      "\u001b[0;32m<ipython-input-21-b2a121dbd48e>\u001b[0m in \u001b[0;36m<module>\u001b[0;34m\u001b[0m\n\u001b[1;32m     91\u001b[0m \u001b[0;34m\u001b[0m\u001b[0m\n\u001b[1;32m     92\u001b[0m \u001b[0;31m#Hiermit wird ein Spiel gestartet.\u001b[0m\u001b[0;34m\u001b[0m\u001b[0;34m\u001b[0m\u001b[0;34m\u001b[0m\u001b[0m\n\u001b[0;32m---> 93\u001b[0;31m \u001b[0mplay_tictactoe\u001b[0m\u001b[0;34m(\u001b[0m\u001b[0;34m)\u001b[0m\u001b[0;34m\u001b[0m\u001b[0;34m\u001b[0m\u001b[0m\n\u001b[0m",
      "\u001b[0;32m<ipython-input-21-b2a121dbd48e>\u001b[0m in \u001b[0;36mplay_tictactoe\u001b[0;34m()\u001b[0m\n\u001b[1;32m     87\u001b[0m         \u001b[0mspiel\u001b[0m\u001b[0;34m.\u001b[0m\u001b[0mshow_board\u001b[0m\u001b[0;34m(\u001b[0m\u001b[0;34m)\u001b[0m\u001b[0;34m\u001b[0m\u001b[0;34m\u001b[0m\u001b[0m\n\u001b[1;32m     88\u001b[0m         \u001b[0mspiel\u001b[0m\u001b[0;34m.\u001b[0m\u001b[0minitialize_player\u001b[0m\u001b[0;34m(\u001b[0m\u001b[0;34m)\u001b[0m\u001b[0;34m\u001b[0m\u001b[0;34m\u001b[0m\u001b[0m\n\u001b[0;32m---> 89\u001b[0;31m         \u001b[0mspiel\u001b[0m\u001b[0;34m.\u001b[0m\u001b[0mplayer_move\u001b[0m\u001b[0;34m(\u001b[0m\u001b[0;34m)\u001b[0m\u001b[0;34m\u001b[0m\u001b[0;34m\u001b[0m\u001b[0m\n\u001b[0m\u001b[1;32m     90\u001b[0m         \u001b[0mspiel\u001b[0m\u001b[0;34m.\u001b[0m\u001b[0mcheck_status\u001b[0m\u001b[0;34m(\u001b[0m\u001b[0;34m)\u001b[0m\u001b[0;34m\u001b[0m\u001b[0;34m\u001b[0m\u001b[0m\n\u001b[1;32m     91\u001b[0m \u001b[0;34m\u001b[0m\u001b[0m\n",
      "\u001b[0;32m<ipython-input-21-b2a121dbd48e>\u001b[0m in \u001b[0;36mplayer_move\u001b[0;34m(self)\u001b[0m\n\u001b[1;32m     44\u001b[0m         \u001b[0;32melse\u001b[0m\u001b[0;34m:\u001b[0m\u001b[0;34m\u001b[0m\u001b[0;34m\u001b[0m\u001b[0m\n\u001b[1;32m     45\u001b[0m             \u001b[0mspeicher\u001b[0m \u001b[0;34m=\u001b[0m \u001b[0meingabe\u001b[0m\u001b[0;34m.\u001b[0m\u001b[0msplit\u001b[0m\u001b[0;34m(\u001b[0m\u001b[0;34m\",\"\u001b[0m\u001b[0;34m)\u001b[0m\u001b[0;34m\u001b[0m\u001b[0;34m\u001b[0m\u001b[0m\n\u001b[0;32m---> 46\u001b[0;31m             \u001b[0mself\u001b[0m\u001b[0;34m.\u001b[0m\u001b[0mmove\u001b[0m \u001b[0;34m=\u001b[0m \u001b[0;34m(\u001b[0m\u001b[0mint\u001b[0m\u001b[0;34m(\u001b[0m\u001b[0mspeicher\u001b[0m\u001b[0;34m[\u001b[0m\u001b[0;36m0\u001b[0m\u001b[0;34m]\u001b[0m\u001b[0;34m)\u001b[0m\u001b[0;34m,\u001b[0m\u001b[0mint\u001b[0m\u001b[0;34m(\u001b[0m\u001b[0mspeicher\u001b[0m\u001b[0;34m[\u001b[0m\u001b[0;36m1\u001b[0m\u001b[0;34m]\u001b[0m\u001b[0;34m)\u001b[0m\u001b[0;34m)\u001b[0m\u001b[0;34m\u001b[0m\u001b[0;34m\u001b[0m\u001b[0m\n\u001b[0m\u001b[1;32m     47\u001b[0m \u001b[0;34m\u001b[0m\u001b[0m\n\u001b[1;32m     48\u001b[0m             if not (self.move in self.board[0]\n",
      "\u001b[0;31mValueError\u001b[0m: invalid literal for int() with base 10: ''"
     ]
    }
   ],
   "source": [
    "\n",
    "class TicTacToe():\n",
    "    def __init__(self):\n",
    "        self.board = [[(0,0),(0,1),(0,2)],\n",
    "                      [(1,0),(1,1),(1,2)],\n",
    "                      [(2,0),(2,1),(2,2)]]\n",
    "        self.game_finished = False\n",
    "        self.turn = 0\n",
    "        \n",
    "    def show_board(self):\n",
    "        \"\"\"Diese Methode ruft das aktuelle Spielfeld auf.\"\"\"\n",
    "        print()\n",
    "        print(['{:^5}'.format(str(element)) for element in self.board[0]])\n",
    "        print(['{:^5}'.format(str(element)) for element in self.board[1]])\n",
    "        print(['{:^5}'.format(str(element)) for element in self.board[2]])\n",
    "        print()\n",
    "        \n",
    "    def initialize_player(self):\n",
    "        \"\"\"Diese Methode initialisiert den Spieler und legt sein Symbol fest.\"\"\"\n",
    "        self.player = self.turn%2 + 1\n",
    "        if self.player == 1:\n",
    "            self.sign = \" X \"\n",
    "        else:\n",
    "            self.sign = \" O \"\n",
    "        \n",
    "    def player_move(self):\n",
    "        \"\"\"Diese Methode fordert den Spieler zur Eingabe seines Zuges auf und prüft, ob dieser valide ist.\"\"\"\n",
    "        \n",
    "        print(\"To end the game enter: Quit\")\n",
    "        print()\n",
    "        eingabe = input(f\"Your symbol is {self.sign} Player {self.player}: What’s your move?\")\n",
    "        \n",
    "        if eingabe == \"Quit\":\n",
    "            print(f\"Player {self.player} has ended the game\")\n",
    "            self.game_finished = True\n",
    "            \n",
    "            \n",
    "        elif \",\" not in eingabe or len(eingabe) != 3:\n",
    "            print()\n",
    "            print(\"INVALID MOVE\")\n",
    "            print()\n",
    "            self.player_move()\n",
    "            \n",
    "            \n",
    "        else:\n",
    "            speicher = eingabe.split(\",\")\n",
    "            self.move = (int(speicher[0]),int(speicher[1]))\n",
    "        \n",
    "            if not (self.move in self.board[0]\n",
    "                    or self.move in self.board[1]\n",
    "                    or self.move in self.board[2]):\n",
    "                print()\n",
    "                print(\"INVALID MOVE\")\n",
    "                print()\n",
    "                self.player_move()\n",
    "                \n",
    "            else:\n",
    "                if self.player == 1:\n",
    "                    self.board[self.move[0]][self.move[1]] = ' X '\n",
    "                else:\n",
    "                    self.board[self.move[0]][self.move[1]] = ' O '   \n",
    "                self.turn += 1    \n",
    "            \n",
    "    def check_status(self):\n",
    "        \"\"\"Diese Methode prüft, ob das Spiel einen Gewinner hat, in einem Unentschieden endet oder weitergeht.\"\"\"\n",
    "        if self.turn >= 9:\n",
    "            self.show_board()\n",
    "            print(\"The Game ends in a tie.\")\n",
    "            self.game_finished = True\n",
    "        \n",
    "        elif (len(set(self.board[0])) == 1\n",
    "              or len(set(self.board[1])) == 1\n",
    "              or len(set(self.board[2])) == 1\n",
    "              or len(set([self.board[0][0],self.board[1][1],self.board[2][2]])) == 1\n",
    "              or len(set([self.board[0][2],self.board[1][1],self.board[2][0]])) == 1):\n",
    "            self.show_board()\n",
    "            print(f\"Congratulations Player {self.player}, you won!\")\n",
    "            self.game_finished = True\n",
    "        else:\n",
    "            pass\n",
    "        \n",
    "        \n",
    "        \n",
    "def play_tictactoe():\n",
    "    \"\"\"Mit dieser Funktion wird ein neues Spiel Tic Tac Toe begonnen, das beendet werden muss.\"\"\"\n",
    "    spiel = TicTacToe()\n",
    "    while spiel.game_finished == False:\n",
    "        spiel.show_board()\n",
    "        spiel.initialize_player()\n",
    "        spiel.player_move()\n",
    "        spiel.check_status()\n",
    "\n",
    "#Hiermit wird ein Spiel gestartet.\n",
    "play_tictactoe()"
   ]
  }
 ],
 "metadata": {
  "kernelspec": {
   "display_name": "Python [conda env:nf] *",
   "language": "python",
   "name": "conda-env-nf-py"
  },
  "language_info": {
   "codemirror_mode": {
    "name": "ipython",
    "version": 3
   },
   "file_extension": ".py",
   "mimetype": "text/x-python",
   "name": "python",
   "nbconvert_exporter": "python",
   "pygments_lexer": "ipython3",
   "version": "3.6.10"
  },
  "varInspector": {
   "cols": {
    "lenName": 16,
    "lenType": 16,
    "lenVar": 40
   },
   "kernels_config": {
    "python": {
     "delete_cmd_postfix": "",
     "delete_cmd_prefix": "del ",
     "library": "var_list.py",
     "varRefreshCmd": "print(var_dic_list())"
    },
    "r": {
     "delete_cmd_postfix": ") ",
     "delete_cmd_prefix": "rm(",
     "library": "var_list.r",
     "varRefreshCmd": "cat(var_dic_list()) "
    }
   },
   "types_to_exclude": [
    "module",
    "function",
    "builtin_function_or_method",
    "instance",
    "_Feature"
   ],
   "window_display": false
  }
 },
 "nbformat": 4,
 "nbformat_minor": 4
}
