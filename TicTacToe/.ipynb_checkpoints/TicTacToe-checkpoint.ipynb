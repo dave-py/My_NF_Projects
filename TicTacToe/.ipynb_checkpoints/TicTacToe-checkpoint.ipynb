{
 "cells": [
  {
   "cell_type": "markdown",
   "metadata": {},
   "source": [
    "'''A program to play TicTacToe with two players'''"
   ]
  },
  {
   "cell_type": "code",
   "execution_count": 1,
   "metadata": {},
   "outputs": [],
   "source": [
    "from random import choice"
   ]
  },
  {
   "cell_type": "code",
   "execution_count": 62,
   "metadata": {},
   "outputs": [],
   "source": [
    "class TicTacToe():\n",
    "    \"\"\"A class that contains all attributs and methods for a 2player game of TicTacToe\"\"\"\n",
    "    \n",
    "    def __init__(self):\n",
    "        \"\"\"instanciate attributes for players, board and game setup\"\"\"\n",
    "        \n",
    "        # set player names and marks\n",
    "        self.p1_name, self.p1_mark = \"Player 1\", \"X\"\n",
    "        self.p2_name, self.p2_mark = \"Player 2\", \"O\"\n",
    "        \n",
    "        # create board coordinates\n",
    "        self.header = [\" \", \"A\", \"B\", \"C\"]\n",
    "        self.row_1 = [\"1\", \" \", \" \", \" \"]\n",
    "        self.row_2 = [\"2\", \" \", \" \", \" \"]\n",
    "        self.row_3 = [\"3\", \" \", \" \", \" \"]\n",
    "        \n",
    "        # calc column and dia lists for win/los validation\n",
    "        self.col_1 = [self.row_1[1] , self.row_2[1], self.row_3[1]]\n",
    "        self.col_2 = [self.row_1[1] , self.row_2[1], self.row_3[1]]\n",
    "        self.col_3 = [self.row_1[1] , self.row_2[1], self.row_3[1]]\n",
    "        self.dia_1 = [self.row_1[1] , self.row_2[2], self.row_3[3]]\n",
    "        self.dia_2 = [self.row_1[3] , self.row_2[2], self.row_3[1]]\n",
    "        \n",
    "        # user input translation to access self.rows\n",
    "        self.board_index = {\"A\":1, \"B\":2, \"C\":3, \"1\":\"self.row_1\", \"2\":\"self.row_2\", \"3\":\"self.row_3\"}\n",
    "        \n",
    "        self.board = (\n",
    "                    \"|\".join(self.header)\n",
    "                    +\"\\n\"+\"-------\\n\"\n",
    "                    +\"|\".join(self.row_1)\n",
    "                    +\"\\n\"+\"-------\\n\"\n",
    "                    +\"|\".join(self.row_2)\n",
    "                    +\"\\n\"+\"-------\\n\"\n",
    "                    +\"|\".join(self.row_3)\n",
    "                )\n",
    "        \n",
    "        self.game_active = False\n",
    "        self.active_player = \"\"\n",
    "        self.active_mark = {self.p1_name:self.p1_mark, self.p2_name:self.p2_mark}\n",
    "        \n",
    "    def run_game(self):\n",
    "        \"\"\"A method to start the game and loop through game methods.\"\"\"\n",
    "\n",
    "        # if program starts for the first time, players need to be set up\n",
    "        if self.game_active == False:\n",
    "            self.set_up_start()\n",
    "\n",
    "        # as long as the game is activ, loop through gaming method\n",
    "        # while\n",
    "        elif self.game_active == True:\n",
    "            self.get_player_input()\n",
    "        #    update_board()\n",
    "        #    check_winner()\n",
    "\n",
    "\n",
    "    def set_up_start(self):\n",
    "        \"\"\"Ask for players names and choose starting player randomly\"\"\"\n",
    "\n",
    "        # Get player names\n",
    "        self.p1_name = \"Max\" #input(\"Please enter name for Player 1: \")\n",
    "        self.p2_name = \"David\" #input(\"Please enter name for Player 2: \")\n",
    "        \n",
    "        # Choose starting player:\n",
    "        self.active_player = choice([self.p1_name, self.p2_name])\n",
    "        print(f\"{self.active_player} is going to start!\")\n",
    "        \n",
    "                \n",
    "        # activate game:\n",
    "        self.game_active = True\n",
    "        print(\"run from setup\")\n",
    "        self.run_game()\n",
    "        \n",
    "    \n",
    "    def get_player_input(self):\n",
    "        \"\"\"Asks for input of the active player\"\"\"\n",
    "        \n",
    "        print(f\"{self.active_player}, where will you play?\")\n",
    "        column = input(\"Column A, B or C?\")\n",
    "        row = input(\"Row: 1, 2 or 3?\")\n",
    "        print(row)\n",
    "        \n",
    "        self.active_mark = {self.p1_name:self.p1_mark, self.p2_name:self.p2_mark}\n",
    "        \n",
    "        if row == 1:\n",
    "            self.row_1[self.board_index[column]] = self.active_mark[self.active_player]\n",
    "            print(self.board_index[column])\n",
    "        elif row == \"2\":\n",
    "            self.row_2[self.board_index[column]] = self.active_mark[self.active_player]\n",
    "            print(self.board_index[column])\n",
    "        elif row == 3:\n",
    "            self.row_3[self.board_index[column]] = self.active_mark[self.active_player]\n",
    "            print(self.board_index[column])\n",
    "        print(self.active_mark[self.active_player])\n",
    "        self.board = (\n",
    "                    \"|\".join(self.header)\n",
    "                    +\"\\n\"+\"-------\\n\"\n",
    "                    +\"|\".join(self.row_1)\n",
    "                    +\"\\n\"+\"-------\\n\"\n",
    "                    +\"|\".join(self.row_2)\n",
    "                    +\"\\n\"+\"-------\\n\"\n",
    "                    +\"|\".join(self.row_3)\n",
    "                )\n",
    "       \n",
    "        print(self.board)\n",
    "        \n",
    "        # Validation!!!!\n",
    "        \n",
    "        \n",
    "        \n",
    "        \n",
    "\n",
    "                      "
   ]
  },
  {
   "cell_type": "code",
   "execution_count": 63,
   "metadata": {},
   "outputs": [],
   "source": [
    "game = TicTacToe()"
   ]
  },
  {
   "cell_type": "code",
   "execution_count": 64,
   "metadata": {},
   "outputs": [
    {
     "data": {
      "text/plain": [
       "False"
      ]
     },
     "execution_count": 64,
     "metadata": {},
     "output_type": "execute_result"
    }
   ],
   "source": [
    "game.game_active"
   ]
  },
  {
   "cell_type": "code",
   "execution_count": 65,
   "metadata": {},
   "outputs": [
    {
     "name": "stdout",
     "output_type": "stream",
     "text": [
      "Max is going to start!\n",
      "run from setup\n",
      "Max, where will you play?\n",
      "Column A, B or C?B\n",
      "Row: 1, 2 or 3?2\n",
      "2\n",
      "2\n",
      "X\n",
      " |A|B|C\n",
      "-------\n",
      "1| | | \n",
      "-------\n",
      "2| |X| \n",
      "-------\n",
      "3| | | \n"
     ]
    }
   ],
   "source": [
    "game.run_game()\n"
   ]
  },
  {
   "cell_type": "code",
   "execution_count": 75,
   "metadata": {},
   "outputs": [
    {
     "data": {
      "text/plain": [
       "'Max'"
      ]
     },
     "execution_count": 75,
     "metadata": {},
     "output_type": "execute_result"
    }
   ],
   "source": [
    "game.p2_name"
   ]
  }
 ],
 "metadata": {
  "kernelspec": {
   "display_name": "Python [conda env:nf] *",
   "language": "python",
   "name": "conda-env-nf-py"
  },
  "language_info": {
   "codemirror_mode": {
    "name": "ipython",
    "version": 3
   },
   "file_extension": ".py",
   "mimetype": "text/x-python",
   "name": "python",
   "nbconvert_exporter": "python",
   "pygments_lexer": "ipython3",
   "version": "3.6.10"
  }
 },
 "nbformat": 4,
 "nbformat_minor": 4
}
